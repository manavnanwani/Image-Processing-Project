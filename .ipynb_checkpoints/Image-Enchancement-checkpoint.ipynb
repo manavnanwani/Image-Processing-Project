{
 "cells": [
  {
   "cell_type": "code",
   "execution_count": 1,
   "id": "b88c7338",
   "metadata": {},
   "outputs": [],
   "source": [
    "import cv2 as cv\n",
    "import numpy as np\n",
    "from matplotlib import pyplot as plt\n",
    "import os\n",
    "from skimage.io import imread_collection"
   ]
  },
  {
   "cell_type": "code",
   "execution_count": 2,
   "id": "47acb0ab",
   "metadata": {
    "tags": []
   },
   "outputs": [],
   "source": [
    "def load_images_from_folder(folder):\n",
    "    images = []\n",
    "    count = 0\n",
    "    for filename in os.listdir(folder):\n",
    "        img = cv.imread(os.path.join(folder,filename))\n",
    "        count+=1\n",
    "        if img is not None:\n",
    "            images.append(filename)\n",
    "        if(count>2000):\n",
    "            break\n",
    "    return images"
   ]
  },
  {
   "cell_type": "code",
   "execution_count": 3,
   "id": "4005d049",
   "metadata": {},
   "outputs": [
    {
     "name": "stdout",
     "output_type": "stream",
     "text": [
      "192556\n"
     ]
    }
   ],
   "source": [
    "imagesDir = 'train_v2/*.jpg'\n",
    "totalImages = imread_collection(imagesDir)\n",
    "print(len(totalImages))"
   ]
  },
  {
   "cell_type": "code",
   "execution_count": 4,
   "id": "9f47f153",
   "metadata": {},
   "outputs": [],
   "source": [
    "# equ = cv.equalizeHist(img)\n",
    "allImages = load_images_from_folder('train_v2')\n",
    "for i in range(1000):\n",
    "    img = totalImages[i]\n",
    "    R, G, B = cv.split(img)\n",
    "\n",
    "    output1_R = cv.equalizeHist(R)\n",
    "    output1_G = cv.equalizeHist(G)\n",
    "    output1_B = cv.equalizeHist(B)\n",
    "\n",
    "    equ = cv.merge((output1_R, output1_G, output1_B))\n",
    "    path='masks/'\n",
    "    cv.imwrite(os.path.join(path,allImages[i]), equ)\n",
    "    cv.waitKey(0)"
   ]
  },
  {
   "cell_type": "code",
   "execution_count": 5,
   "id": "6478139b",
   "metadata": {
    "jupyter": {
     "source_hidden": true
    },
    "tags": []
   },
   "outputs": [],
   "source": [
    "# cv.imshow('equ.png',equ)\n"
   ]
  },
  {
   "cell_type": "code",
   "execution_count": null,
   "id": "554f0353-4877-48e9-be93-c993041db75c",
   "metadata": {},
   "outputs": [],
   "source": []
  }
 ],
 "metadata": {
  "kernelspec": {
   "display_name": "Python 3 (ipykernel)",
   "language": "python",
   "name": "python3"
  },
  "language_info": {
   "codemirror_mode": {
    "name": "ipython",
    "version": 3
   },
   "file_extension": ".py",
   "mimetype": "text/x-python",
   "name": "python",
   "nbconvert_exporter": "python",
   "pygments_lexer": "ipython3",
   "version": "3.9.6"
  }
 },
 "nbformat": 4,
 "nbformat_minor": 5
}
