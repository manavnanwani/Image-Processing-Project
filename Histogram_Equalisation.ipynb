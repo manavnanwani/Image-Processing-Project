{
 "cells": [
  {
   "cell_type": "code",
   "execution_count": 1,
   "id": "b88c7338",
   "metadata": {},
   "outputs": [],
   "source": [
    "import cv2 as cv\n",
    "import numpy as np\n",
    "from matplotlib import pyplot as plt\n",
    "import os\n",
    "from skimage.io import imread_collection\n",
    "from skimage import data, img_as_float, io, exposure\n",
    "import matplotlib\n",
    "from fastai.vision.all import *"
   ]
  },
  {
   "cell_type": "code",
   "execution_count": 2,
   "id": "47acb0ab",
   "metadata": {},
   "outputs": [],
   "source": [
    "def load_images_from_folder(folder):\n",
    "    images = []\n",
    "    count = 0\n",
    "    for filename in os.listdir(folder):\n",
    "        img = cv.imread(os.path.join(folder,filename))\n",
    "        count+=1\n",
    "        if img is not None:\n",
    "            images.append(filename)\n",
    "        if(count>1000):\n",
    "            break\n",
    "    return images"
   ]
  },
  {
   "cell_type": "code",
   "execution_count": 3,
   "id": "b684b41a",
   "metadata": {},
   "outputs": [
    {
     "name": "stdout",
     "output_type": "stream",
     "text": [
      "1001\n"
     ]
    }
   ],
   "source": [
    "pathFolder = \"train_v2\"\n",
    "allImages = load_images_from_folder(pathFolder)\n",
    "print(len(allImages))"
   ]
  },
  {
   "cell_type": "code",
   "execution_count": 4,
   "id": "4005d049",
   "metadata": {},
   "outputs": [
    {
     "name": "stdout",
     "output_type": "stream",
     "text": [
      "192556\n"
     ]
    }
   ],
   "source": [
    "imagesDir = 'train_v2/*.jpg'\n",
    "totalImages = imread_collection(imagesDir)\n",
    "print(len(totalImages))"
   ]
  },
  {
   "cell_type": "code",
   "execution_count": 5,
   "id": "12873e4b",
   "metadata": {},
   "outputs": [],
   "source": [
    "processedImages = []"
   ]
  },
  {
   "cell_type": "code",
   "execution_count": 6,
   "id": "b0680c30",
   "metadata": {},
   "outputs": [
    {
     "name": "stderr",
     "output_type": "stream",
     "text": [
      "c:\\users\\manav\\appdata\\local\\programs\\python\\python39\\lib\\site-packages\\skimage\\_shared\\utils.py:338: UserWarning: This might be a color image. The histogram will be computed on the flattened image. You can instead apply this function to each color channel, or set channel_axis.\n",
      "  return func(*args, **kwargs)\n"
     ]
    }
   ],
   "source": [
    "# for i in range(0,len(totalImages)):\n",
    "for i in range(0,10):\n",
    "    newImage = exposure.equalize_hist(totalImages[i])\n",
    "    processedImages.append(newImage)\n",
    "    # io.imsave(\"masks/{}\".format(allImages[i]), newImage)\n"
   ]
  },
  {
   "cell_type": "code",
   "execution_count": 7,
   "id": "30a8a291-2361-4e75-a4a5-57cf293bdee6",
   "metadata": {},
   "outputs": [],
   "source": [
    "# --------------------------------------------------------------------------------------"
   ]
  },
  {
   "cell_type": "code",
   "execution_count": 8,
   "id": "46cd1d4e-1f89-40a8-88a6-e5d2bcb695c5",
   "metadata": {},
   "outputs": [],
   "source": [
    "for i in range(0,20):\n",
    "    msk = PILMask.create(totalImages[i])\n",
    "    # msk.show()"
   ]
  },
  {
   "cell_type": "code",
   "execution_count": 9,
   "id": "943ae708-3d6e-41f2-9ed2-885a22f50b1c",
   "metadata": {},
   "outputs": [],
   "source": [
    "import pandas as pd\n",
    "import numpy as np\n",
    "import os\n",
    "from PIL import Image\n",
    "from sklearn.model_selection import train_test_split"
   ]
  },
  {
   "cell_type": "code",
   "execution_count": 10,
   "id": "8416e98c-4dd7-42e6-9cc8-dc61b22e24c2",
   "metadata": {},
   "outputs": [],
   "source": [
    "PATH = './'\n",
    "TRAIN = './train_v2/'\n",
    "TEST = './test_v2/'\n",
    "SEGMENTATION = './train_ship_segmentations_v2.csv'"
   ]
  },
  {
   "cell_type": "code",
   "execution_count": 11,
   "id": "97cc516c-78bc-4d4b-bc82-3bfa8059ae79",
   "metadata": {},
   "outputs": [],
   "source": [
    "train_names = [f for f in os.listdir(TRAIN)]\n",
    "tr_n, val_n = train_test_split(train_names, test_size=0.05, random_state=42)\n",
    "segmentation_df = pd.read_csv(os.path.join(PATH, SEGMENTATION)).set_index('ImageId')"
   ]
  },
  {
   "cell_type": "code",
   "execution_count": 12,
   "id": "2bd8fa93-564c-44b9-830d-f149f9a59311",
   "metadata": {},
   "outputs": [
    {
     "name": "stdout",
     "output_type": "stream",
     "text": [
      "40428\n"
     ]
    }
   ],
   "source": [
    "def cut_empty(names):\n",
    "    return [name for name in names \n",
    "            if(type(segmentation_df.loc[name]['EncodedPixels']) != float)]\n",
    "\n",
    "tr_n = cut_empty(tr_n)\n",
    "val_n = cut_empty(val_n)\n",
    "print(len(tr_n))"
   ]
  },
  {
   "cell_type": "code",
   "execution_count": 13,
   "id": "7f858602-0492-4567-bf6c-7c4ae69a3e26",
   "metadata": {},
   "outputs": [
    {
     "name": "stdout",
     "output_type": "stream",
     "text": [
      "49677e036.jpg\n"
     ]
    }
   ],
   "source": [
    "print(tr_n[0])\n",
    "im=PILImage.create(\"./train_v2/{}\".format(tr_n[0]))"
   ]
  },
  {
   "cell_type": "code",
   "execution_count": 32,
   "id": "d0c5d7f7-0aac-45c4-9f35-abdb6dd251aa",
   "metadata": {},
   "outputs": [
    {
     "name": "stdout",
     "output_type": "stream",
     "text": [
      "768 768\n"
     ]
    },
    {
     "data": {
      "image/png": "[encoded data removed]",
      "text/plain": [
       "<Figure size 360x360 with 1 Axes>"
      ]
     },
     "metadata": {
      "needs_background": "light"
     },
     "output_type": "display_data"
    }
   ],
   "source": [
    "file=\"00ce2c1c0.jpg\"\n",
    "ar=segmentation_df.loc[file][0].split(\" \")\n",
    "rle=[int(x) for x in ar]\n",
    "pixel,pixel_count = [],[]\n",
    "[pixel.append(rle[i]) if i%2==0 else pixel_count.append(rle[i]) for i in range(0, len(rle))]\n",
    "rle_pixels = [list(range(pixel[i],pixel[i]+pixel_count[i])) for i in range(0, len(pixel))]\n",
    "rle_mask_pixels = sum(rle_pixels,[]) \n",
    "shape=np.array(cv.imread(\"./train_v2/{}\".format(file))).shape\n",
    "# plt.imshow(cv.imread(\"./train_v2/{}\".format(file)))\n",
    "mask_img = np.zeros((shape[0]*shape[1],1), dtype=int)\n",
    "mask_img[rle_mask_pixels] = 255\n",
    "l,b=cv.imread(\"./train_v2/{}\".format(file)).shape[0], cv.imread(\"./train_v2/{}\".format(file)).shape[1]\n",
    "print(l,b)\n",
    "mask = np.reshape(mask_img, (b, l)).T\n",
    "msk = PILImage.create(mask)\n",
    "# plt.imshow(mask)\n",
    "msk.show()\n",
    "newSize=(128,128)\n",
    "msk1=msk.resize(newSize)\n",
    "# msk1.show()"
   ]
  },
  {
   "cell_type": "code",
   "execution_count": 15,
   "id": "f8ec6764-0684-4488-a977-0bb90d73e2b5",
   "metadata": {},
   "outputs": [],
   "source": [
    "# msk = PILMask.create(np.array(l,dtype=np.uint8))\n",
    "# msk.show()"
   ]
  },
  {
   "cell_type": "code",
   "execution_count": 16,
   "id": "d7d53e95-b08c-40c6-830f-5edcf079d1db",
   "metadata": {},
   "outputs": [],
   "source": [
    "def get_mask(img_id, df):\n",
    "    shape = (768,768)\n",
    "    img = np.zeros(shape[0]*shape[1], dtype=np.uint8)\n",
    "    masks = df.loc[img_id]['EncodedPixels']\n",
    "    if(type(masks) == float): return img.reshape(shape)\n",
    "    if(type(masks) == str): masks = [masks]\n",
    "    for mask in masks:\n",
    "        s = mask.split()\n",
    "        for i in range(len(s)//2):\n",
    "            start = int(s[2*i]) - 1\n",
    "            length = int(s[2*i+1])\n",
    "            img[start:start+length] = 1\n",
    "    return img.reshape(shape).T"
   ]
  },
  {
   "cell_type": "code",
   "execution_count": 17,
   "id": "aa5be10b-ce8c-4a2f-8128-2356b429e39c",
   "metadata": {},
   "outputs": [],
   "source": [
    "# t=get_mask('49677e036.jpg',segmentation_df)\n",
    "# t"
   ]
  },
  {
   "cell_type": "code",
   "execution_count": 18,
   "id": "2d9ba973-56cd-4be4-ab68-5ded198a2ec1",
   "metadata": {},
   "outputs": [],
   "source": [
    "# img = Image.fromarray(np.array(l)).resize((768, 768)).convert('RGB')\n",
    "# temp =  np.array(img).astype(np.uint8)\n",
    "# msk = PILMask.create(temp)\n",
    "# msk.show()"
   ]
  },
  {
   "cell_type": "code",
   "execution_count": null,
   "id": "16efb1ea-460a-451d-828f-dc22f9031e7c",
   "metadata": {},
   "outputs": [],
   "source": []
  },
  {
   "cell_type": "code",
   "execution_count": null,
   "id": "4806fd87-d0cd-48ab-be6f-ef1337fa0c5a",
   "metadata": {},
   "outputs": [],
   "source": []
  }
 ],
 "metadata": {
  "kernelspec": {
   "display_name": "Python 3 (ipykernel)",
   "language": "python",
   "name": "python3"
  },
  "language_info": {
   "codemirror_mode": {
    "name": "ipython",
    "version": 3
   },
   "file_extension": ".py",
   "mimetype": "text/x-python",
   "name": "python",
   "nbconvert_exporter": "python",
   "pygments_lexer": "ipython3",
   "version": "3.9.6"
  }
 },
 "nbformat": 4,
 "nbformat_minor": 5
}
